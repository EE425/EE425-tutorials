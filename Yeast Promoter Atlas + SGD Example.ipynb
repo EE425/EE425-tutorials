{
 "cells": [
  {
   "cell_type": "code",
   "execution_count": 1,
   "metadata": {
    "collapsed": true
   },
   "outputs": [],
   "source": [
    "import coral as cr"
   ]
  },
  {
   "cell_type": "code",
   "execution_count": 4,
   "metadata": {
    "collapsed": false
   },
   "outputs": [],
   "source": [
    "# Goal: Get the promoter + coding sequence of a gene so we\n",
    "# can design guide RNAs\n",
    "\n",
    "# Solution: use built-in Coral database module functions\n",
    "\n",
    "# Our gene will be TDH3\n",
    "\n",
    "promoter = cr.database.get_yeast_promoter_ypa('TDH3')\n",
    "cds = cr.database.fetch_yeast_locus_sequence('TDH3')"
   ]
  },
  {
   "cell_type": "code",
   "execution_count": 6,
   "metadata": {
    "collapsed": false
   },
   "outputs": [],
   "source": [
    "# We probably don't want more than 50 bases of the\n",
    "# coding sequence or so\n",
    "template = promoter + cds[:50]"
   ]
  },
  {
   "cell_type": "code",
   "execution_count": null,
   "metadata": {
    "collapsed": true
   },
   "outputs": [],
   "source": []
  }
 ],
 "metadata": {
  "kernelspec": {
   "display_name": "Python 2",
   "language": "python",
   "name": "python2"
  },
  "language_info": {
   "codemirror_mode": {
    "name": "ipython",
    "version": 2
   },
   "file_extension": ".py",
   "mimetype": "text/x-python",
   "name": "python",
   "nbconvert_exporter": "python",
   "pygments_lexer": "ipython2",
   "version": "2.7.6"
  }
 },
 "nbformat": 4,
 "nbformat_minor": 0
}
